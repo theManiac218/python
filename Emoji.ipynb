{
  "nbformat": 4,
  "nbformat_minor": 0,
  "metadata": {
    "colab": {
      "provenance": [],
      "include_colab_link": true
    },
    "kernelspec": {
      "name": "python3",
      "display_name": "Python 3"
    },
    "language_info": {
      "name": "python"
    }
  },
  "cells": [
    {
      "cell_type": "markdown",
      "metadata": {
        "id": "view-in-github",
        "colab_type": "text"
      },
      "source": [
        "<a href=\"https://colab.research.google.com/github/theManiac218/python/blob/main/Emoji.ipynb\" target=\"_parent\"><img src=\"https://colab.research.google.com/assets/colab-badge.svg\" alt=\"Open In Colab\"/></a>"
      ]
    },
    {
      "cell_type": "code",
      "execution_count": null,
      "metadata": {
        "colab": {
          "base_uri": "https://localhost:8080/"
        },
        "id": "Ep4j95qaNlo2",
        "outputId": "7b4fef65-0717-473a-c09f-4446575851f6"
      },
      "outputs": [
        {
          "output_type": "stream",
          "name": "stdout",
          "text": [
            "Collecting emot\n",
            "  Downloading emot-3.1-py3-none-any.whl.metadata (396 bytes)\n",
            "Downloading emot-3.1-py3-none-any.whl (61 kB)\n",
            "\u001b[?25l   \u001b[90m━━━━━━━━━━━━━━━━━━━━━━━━━━━━━━━━━━━━━━━━\u001b[0m \u001b[32m0.0/61.5 kB\u001b[0m \u001b[31m?\u001b[0m eta \u001b[36m-:--:--\u001b[0m\r\u001b[2K   \u001b[90m━━━━━━━━━━━━━━━━━━━━━━━━━━━━━━━━━━━━━━━━\u001b[0m \u001b[32m61.5/61.5 kB\u001b[0m \u001b[31m3.0 MB/s\u001b[0m eta \u001b[36m0:00:00\u001b[0m\n",
            "\u001b[?25hInstalling collected packages: emot\n",
            "Successfully installed emot-3.1\n"
          ]
        }
      ],
      "source": [
        "#Installing emot library\n",
        "\n",
        "!pip install emot"
      ]
    },
    {
      "cell_type": "code",
      "source": [
        "#create sample text data with emoji\n",
        "\n",
        "text1 = \"What are you saying 😂. I am the boss 😎, and why are you so 😒\""
      ],
      "metadata": {
        "id": "VudHQ-T1Np3W"
      },
      "execution_count": null,
      "outputs": []
    },
    {
      "cell_type": "code",
      "source": [
        "import re\n",
        "\n",
        "from emot.emo_unicode import UNICODE_EMOJI\n",
        "\n",
        "from emot.emo_unicode import EMOTICONS_EMO"
      ],
      "metadata": {
        "id": "SOYFsexcOght"
      },
      "execution_count": null,
      "outputs": []
    },
    {
      "cell_type": "code",
      "source": [
        "# Function for converting emojis into word\n",
        "\n",
        "def converting_emojis(text):\n",
        "\n",
        "    for emot in UNICODE_EMOJI:\n",
        "\n",
        "        text = text.replace(emot, \"_\".join(UNICODE_EMOJI[emot].replace(\",\",\"\")\\\n",
        "                                           .replace(\":\",\"\").split()))\n",
        "    return text\n",
        "\n",
        "\n",
        "\n",
        "converting_emojis(text1)"
      ],
      "metadata": {
        "colab": {
          "base_uri": "https://localhost:8080/",
          "height": 35
        },
        "id": "o_aP4xYSPGlr",
        "outputId": "c1327bd7-578d-4778-eda4-ab05e15528e2"
      },
      "execution_count": null,
      "outputs": [
        {
          "output_type": "execute_result",
          "data": {
            "text/plain": [
              "'What are you saying face_with_tears_of_joy. I am the boss smiling_face_with_sunglasses, and why are you so unamused_face'"
            ],
            "application/vnd.google.colaboratory.intrinsic+json": {
              "type": "string"
            }
          },
          "metadata": {},
          "execution_count": 4
        }
      ]
    },
    {
      "cell_type": "code",
      "source": [
        "def emoji_removal(string):\n",
        "\n",
        "    emoji_unicodes = re.compile(\"[\"\n",
        "\n",
        "                               u\"\\U0001F600-\\U0001F64F\"  # emoticons\n",
        "\n",
        "                               u\"\\U0001F300-\\U0001F5FF\"  # symbols\n",
        "\n",
        "                               u\"\\U0001F680-\\U0001F6FF\"  # transport\n",
        "\n",
        "                               u\"\\U0001F1E0-\\U0001F1FF\"  # flags (iOS)\n",
        "\n",
        "                               u\"\\U00002500-\\U00002BEF\"\n",
        "\n",
        "                               u\"\\U00002702-\\U000027B0\"\n",
        "\n",
        "                               u\"\\U000024C2-\\U0001F251\"\n",
        "\n",
        "                               u\"\\U0001f926-\\U0001f937\"\n",
        "\n",
        "                               u\"\\U00010000-\\U0010ffff\"\n",
        "\n",
        "                               u\"\\u2640-\\u2642\"\n",
        "\n",
        "                               u\"\\u2600-\\u2B55\"\n",
        "\n",
        "                               u\"\\u200d\"\n",
        "\n",
        "                               u\"\\u23cf\"\n",
        "\n",
        "                               u\"\\u23e9\"\n",
        "\n",
        "                               u\"\\u231a\"\n",
        "\n",
        "                               u\"\\ufe0f\"\n",
        "\n",
        "                               u\"\\u3030\"\n",
        "\n",
        "                               \"]+\", flags=re.UNICODE)\n",
        "\n",
        "    return emoji_unicodes.sub(r'', string)\n",
        "\n",
        "\n",
        "\n",
        "emoji_removal(text1)"
      ],
      "metadata": {
        "id": "bA_cOeINPeQw",
        "colab": {
          "base_uri": "https://localhost:8080/",
          "height": 35
        },
        "outputId": "a31b5ca3-6b79-4a82-cca8-6e1d6bc2b227"
      },
      "execution_count": 6,
      "outputs": [
        {
          "output_type": "execute_result",
          "data": {
            "text/plain": [
              "'What are you saying . I am the boss , and why are you so '"
            ],
            "application/vnd.google.colaboratory.intrinsic+json": {
              "type": "string"
            }
          },
          "metadata": {},
          "execution_count": 6
        }
      ]
    },
    {
      "cell_type": "code",
      "source": [],
      "metadata": {
        "id": "G4mgKArTSFAi"
      },
      "execution_count": null,
      "outputs": []
    }
  ]
}