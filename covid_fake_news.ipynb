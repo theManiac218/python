{
  "nbformat": 4,
  "nbformat_minor": 0,
  "metadata": {
    "colab": {
      "provenance": [],
      "authorship_tag": "ABX9TyN8+4i2P6YGTlDV/labP9hG",
      "include_colab_link": true
    },
    "kernelspec": {
      "name": "python3",
      "display_name": "Python 3"
    },
    "language_info": {
      "name": "python"
    }
  },
  "cells": [
    {
      "cell_type": "markdown",
      "metadata": {
        "id": "view-in-github",
        "colab_type": "text"
      },
      "source": [
        "<a href=\"https://colab.research.google.com/github/theManiac218/python/blob/main/covid_fake_news.ipynb\" target=\"_parent\"><img src=\"https://colab.research.google.com/assets/colab-badge.svg\" alt=\"Open In Colab\"/></a>"
      ]
    },
    {
      "cell_type": "code",
      "execution_count": 1,
      "metadata": {
        "id": "aUDH1xgF94wg"
      },
      "outputs": [],
      "source": [
        "from nltk.stem.porter import PorterStemmer\n",
        "\n",
        "from sklearn.feature_extraction.text import TfidfVectorizer\n",
        "\n",
        "from sklearn.model_selection import train_test_split\n",
        "\n",
        "import pickle\n",
        "\n",
        "from sklearn.linear_model import LogisticRegressionCV\n",
        "\n",
        "import re\n",
        "\n",
        "import pandas as pd\n",
        "\n",
        "import warnings\n",
        "\n",
        "warnings.filterwarnings(\"ignore\")"
      ]
    },
    {
      "cell_type": "code",
      "source": [
        "df = pd.read_csv(\"covid_fake.csv\")"
      ],
      "metadata": {
        "id": "axhL4bxk_vvI"
      },
      "execution_count": 2,
      "outputs": []
    },
    {
      "cell_type": "code",
      "source": [
        "df['label'].value_counts()"
      ],
      "metadata": {
        "colab": {
          "base_uri": "https://localhost:8080/",
          "height": 209
        },
        "id": "WUxaj0eBAEWB",
        "outputId": "0befecb0-145c-4a51-a54b-1a1f0e84276b"
      },
      "execution_count": 3,
      "outputs": [
        {
          "output_type": "execute_result",
          "data": {
            "text/plain": [
              "label\n",
              "TRUE    584\n",
              "Fake    345\n",
              "fake    230\n",
              "Name: count, dtype: int64"
            ],
            "text/html": [
              "<div>\n",
              "<style scoped>\n",
              "    .dataframe tbody tr th:only-of-type {\n",
              "        vertical-align: middle;\n",
              "    }\n",
              "\n",
              "    .dataframe tbody tr th {\n",
              "        vertical-align: top;\n",
              "    }\n",
              "\n",
              "    .dataframe thead th {\n",
              "        text-align: right;\n",
              "    }\n",
              "</style>\n",
              "<table border=\"1\" class=\"dataframe\">\n",
              "  <thead>\n",
              "    <tr style=\"text-align: right;\">\n",
              "      <th></th>\n",
              "      <th>count</th>\n",
              "    </tr>\n",
              "    <tr>\n",
              "      <th>label</th>\n",
              "      <th></th>\n",
              "    </tr>\n",
              "  </thead>\n",
              "  <tbody>\n",
              "    <tr>\n",
              "      <th>TRUE</th>\n",
              "      <td>584</td>\n",
              "    </tr>\n",
              "    <tr>\n",
              "      <th>Fake</th>\n",
              "      <td>345</td>\n",
              "    </tr>\n",
              "    <tr>\n",
              "      <th>fake</th>\n",
              "      <td>230</td>\n",
              "    </tr>\n",
              "  </tbody>\n",
              "</table>\n",
              "</div><br><label><b>dtype:</b> int64</label>"
            ]
          },
          "metadata": {},
          "execution_count": 3
        }
      ]
    },
    {
      "cell_type": "code",
      "source": [
        "df.isna().sum()"
      ],
      "metadata": {
        "colab": {
          "base_uri": "https://localhost:8080/",
          "height": 209
        },
        "id": "JGJDHOQGALHY",
        "outputId": "2cdb3e9c-1a92-4143-b64b-613318c445b9"
      },
      "execution_count": 4,
      "outputs": [
        {
          "output_type": "execute_result",
          "data": {
            "text/plain": [
              "title     82\n",
              "text      10\n",
              "source    20\n",
              "label      5\n",
              "dtype: int64"
            ],
            "text/html": [
              "<div>\n",
              "<style scoped>\n",
              "    .dataframe tbody tr th:only-of-type {\n",
              "        vertical-align: middle;\n",
              "    }\n",
              "\n",
              "    .dataframe tbody tr th {\n",
              "        vertical-align: top;\n",
              "    }\n",
              "\n",
              "    .dataframe thead th {\n",
              "        text-align: right;\n",
              "    }\n",
              "</style>\n",
              "<table border=\"1\" class=\"dataframe\">\n",
              "  <thead>\n",
              "    <tr style=\"text-align: right;\">\n",
              "      <th></th>\n",
              "      <th>0</th>\n",
              "    </tr>\n",
              "  </thead>\n",
              "  <tbody>\n",
              "    <tr>\n",
              "      <th>title</th>\n",
              "      <td>82</td>\n",
              "    </tr>\n",
              "    <tr>\n",
              "      <th>text</th>\n",
              "      <td>10</td>\n",
              "    </tr>\n",
              "    <tr>\n",
              "      <th>source</th>\n",
              "      <td>20</td>\n",
              "    </tr>\n",
              "    <tr>\n",
              "      <th>label</th>\n",
              "      <td>5</td>\n",
              "    </tr>\n",
              "  </tbody>\n",
              "</table>\n",
              "</div><br><label><b>dtype:</b> int64</label>"
            ]
          },
          "metadata": {},
          "execution_count": 4
        }
      ]
    },
    {
      "cell_type": "code",
      "source": [
        "df.loc[df['label'] == 'Fake', ['label']] = 'FAKE'\n",
        "\n",
        "df.loc[df['label'] == 'fake', ['label']] = 'FAKE'\n",
        "\n",
        "df.loc[df['source'] == 'facebook', ['source']] = 'Facebook'\n",
        "\n",
        "df.text.fillna(df.title, inplace=True)\n",
        "\n",
        "df.loc[5]['label'] = 'FAKE'\n",
        "\n",
        "df.loc[15]['label'] = 'TRUE'\n",
        "\n",
        "df.loc[43]['label'] = 'FAKE'\n",
        "\n",
        "df.loc[131]['label'] = 'TRUE'\n",
        "\n",
        "df.loc[242]['label'] = 'FAKE'\n",
        "\n",
        "#df = df.sample(frac=1).reset_index(drop=True)\n",
        "\n",
        "df.title.fillna('missing', inplace=True)\n",
        "\n",
        "df.source.fillna('missing', inplace=True)porter = PorterStemmer()\n",
        "\n",
        "def tokenizer_porter(text):\n",
        "\n",
        "    return [porter.stem(word) for word in text.split()]\n",
        "\n",
        "df['title_text'] = df['title'] + ' ' + df['text']"
      ],
      "metadata": {
        "id": "Vn-oAsmZAOzU"
      },
      "execution_count": 5,
      "outputs": []
    },
    {
      "cell_type": "code",
      "source": [
        "df.isna().sum()"
      ],
      "metadata": {
        "colab": {
          "base_uri": "https://localhost:8080/",
          "height": 241
        },
        "id": "aMQvtkluARg2",
        "outputId": "7b4ca2bd-4069-4f06-c7f5-5b99e378a534"
      },
      "execution_count": 6,
      "outputs": [
        {
          "output_type": "execute_result",
          "data": {
            "text/plain": [
              "title         0\n",
              "text          0\n",
              "source        0\n",
              "label         0\n",
              "title_text    0\n",
              "dtype: int64"
            ],
            "text/html": [
              "<div>\n",
              "<style scoped>\n",
              "    .dataframe tbody tr th:only-of-type {\n",
              "        vertical-align: middle;\n",
              "    }\n",
              "\n",
              "    .dataframe tbody tr th {\n",
              "        vertical-align: top;\n",
              "    }\n",
              "\n",
              "    .dataframe thead th {\n",
              "        text-align: right;\n",
              "    }\n",
              "</style>\n",
              "<table border=\"1\" class=\"dataframe\">\n",
              "  <thead>\n",
              "    <tr style=\"text-align: right;\">\n",
              "      <th></th>\n",
              "      <th>0</th>\n",
              "    </tr>\n",
              "  </thead>\n",
              "  <tbody>\n",
              "    <tr>\n",
              "      <th>title</th>\n",
              "      <td>0</td>\n",
              "    </tr>\n",
              "    <tr>\n",
              "      <th>text</th>\n",
              "      <td>0</td>\n",
              "    </tr>\n",
              "    <tr>\n",
              "      <th>source</th>\n",
              "      <td>0</td>\n",
              "    </tr>\n",
              "    <tr>\n",
              "      <th>label</th>\n",
              "      <td>0</td>\n",
              "    </tr>\n",
              "    <tr>\n",
              "      <th>title_text</th>\n",
              "      <td>0</td>\n",
              "    </tr>\n",
              "  </tbody>\n",
              "</table>\n",
              "</div><br><label><b>dtype:</b> int64</label>"
            ]
          },
          "metadata": {},
          "execution_count": 6
        }
      ]
    },
    {
      "cell_type": "code",
      "source": [
        "df.head()"
      ],
      "metadata": {
        "colab": {
          "base_uri": "https://localhost:8080/",
          "height": 241
        },
        "id": "IjqAzFpPATHx",
        "outputId": "15a0bdb0-09cc-4d87-9e37-49e9aa146959"
      },
      "execution_count": 7,
      "outputs": [
        {
          "output_type": "execute_result",
          "data": {
            "text/plain": [
              "                                               title  \\\n",
              "0  Due to the recent outbreak for the Coronavirus...   \n",
              "1                                            missing   \n",
              "2                                            missing   \n",
              "3                                            missing   \n",
              "4                                            missing   \n",
              "\n",
              "                                                text  \\\n",
              "0  You just need to add water, and the drugs and ...   \n",
              "1  Hydroxychloroquine has been shown to have a 10...   \n",
              "2  Fact: Hydroxychloroquine has been shown to hav...   \n",
              "3  The Corona virus is a man made virus created i...   \n",
              "4  Doesn’t @BillGates finance research at the Wuh...   \n",
              "\n",
              "                      source label  \\\n",
              "0  coronavirusmedicalkit.com  FAKE   \n",
              "1               RudyGiuliani  FAKE   \n",
              "2                CharlieKirk  FAKE   \n",
              "3    JoanneWrightForCongress  FAKE   \n",
              "4    JoanneWrightForCongress  FAKE   \n",
              "\n",
              "                                          title_text  \n",
              "0  Due to the recent outbreak for the Coronavirus...  \n",
              "1  missing Hydroxychloroquine has been shown to h...  \n",
              "2  missing Fact: Hydroxychloroquine has been show...  \n",
              "3  missing The Corona virus is a man made virus c...  \n",
              "4  missing Doesn’t @BillGates finance research at...  "
            ],
            "text/html": [
              "\n",
              "  <div id=\"df-ca91b8aa-e8b6-448a-bf85-117a21dc383c\" class=\"colab-df-container\">\n",
              "    <div>\n",
              "<style scoped>\n",
              "    .dataframe tbody tr th:only-of-type {\n",
              "        vertical-align: middle;\n",
              "    }\n",
              "\n",
              "    .dataframe tbody tr th {\n",
              "        vertical-align: top;\n",
              "    }\n",
              "\n",
              "    .dataframe thead th {\n",
              "        text-align: right;\n",
              "    }\n",
              "</style>\n",
              "<table border=\"1\" class=\"dataframe\">\n",
              "  <thead>\n",
              "    <tr style=\"text-align: right;\">\n",
              "      <th></th>\n",
              "      <th>title</th>\n",
              "      <th>text</th>\n",
              "      <th>source</th>\n",
              "      <th>label</th>\n",
              "      <th>title_text</th>\n",
              "    </tr>\n",
              "  </thead>\n",
              "  <tbody>\n",
              "    <tr>\n",
              "      <th>0</th>\n",
              "      <td>Due to the recent outbreak for the Coronavirus...</td>\n",
              "      <td>You just need to add water, and the drugs and ...</td>\n",
              "      <td>coronavirusmedicalkit.com</td>\n",
              "      <td>FAKE</td>\n",
              "      <td>Due to the recent outbreak for the Coronavirus...</td>\n",
              "    </tr>\n",
              "    <tr>\n",
              "      <th>1</th>\n",
              "      <td>missing</td>\n",
              "      <td>Hydroxychloroquine has been shown to have a 10...</td>\n",
              "      <td>RudyGiuliani</td>\n",
              "      <td>FAKE</td>\n",
              "      <td>missing Hydroxychloroquine has been shown to h...</td>\n",
              "    </tr>\n",
              "    <tr>\n",
              "      <th>2</th>\n",
              "      <td>missing</td>\n",
              "      <td>Fact: Hydroxychloroquine has been shown to hav...</td>\n",
              "      <td>CharlieKirk</td>\n",
              "      <td>FAKE</td>\n",
              "      <td>missing Fact: Hydroxychloroquine has been show...</td>\n",
              "    </tr>\n",
              "    <tr>\n",
              "      <th>3</th>\n",
              "      <td>missing</td>\n",
              "      <td>The Corona virus is a man made virus created i...</td>\n",
              "      <td>JoanneWrightForCongress</td>\n",
              "      <td>FAKE</td>\n",
              "      <td>missing The Corona virus is a man made virus c...</td>\n",
              "    </tr>\n",
              "    <tr>\n",
              "      <th>4</th>\n",
              "      <td>missing</td>\n",
              "      <td>Doesn’t @BillGates finance research at the Wuh...</td>\n",
              "      <td>JoanneWrightForCongress</td>\n",
              "      <td>FAKE</td>\n",
              "      <td>missing Doesn’t @BillGates finance research at...</td>\n",
              "    </tr>\n",
              "  </tbody>\n",
              "</table>\n",
              "</div>\n",
              "    <div class=\"colab-df-buttons\">\n",
              "\n",
              "  <div class=\"colab-df-container\">\n",
              "    <button class=\"colab-df-convert\" onclick=\"convertToInteractive('df-ca91b8aa-e8b6-448a-bf85-117a21dc383c')\"\n",
              "            title=\"Convert this dataframe to an interactive table.\"\n",
              "            style=\"display:none;\">\n",
              "\n",
              "  <svg xmlns=\"http://www.w3.org/2000/svg\" height=\"24px\" viewBox=\"0 -960 960 960\">\n",
              "    <path d=\"M120-120v-720h720v720H120Zm60-500h600v-160H180v160Zm220 220h160v-160H400v160Zm0 220h160v-160H400v160ZM180-400h160v-160H180v160Zm440 0h160v-160H620v160ZM180-180h160v-160H180v160Zm440 0h160v-160H620v160Z\"/>\n",
              "  </svg>\n",
              "    </button>\n",
              "\n",
              "  <style>\n",
              "    .colab-df-container {\n",
              "      display:flex;\n",
              "      gap: 12px;\n",
              "    }\n",
              "\n",
              "    .colab-df-convert {\n",
              "      background-color: #E8F0FE;\n",
              "      border: none;\n",
              "      border-radius: 50%;\n",
              "      cursor: pointer;\n",
              "      display: none;\n",
              "      fill: #1967D2;\n",
              "      height: 32px;\n",
              "      padding: 0 0 0 0;\n",
              "      width: 32px;\n",
              "    }\n",
              "\n",
              "    .colab-df-convert:hover {\n",
              "      background-color: #E2EBFA;\n",
              "      box-shadow: 0px 1px 2px rgba(60, 64, 67, 0.3), 0px 1px 3px 1px rgba(60, 64, 67, 0.15);\n",
              "      fill: #174EA6;\n",
              "    }\n",
              "\n",
              "    .colab-df-buttons div {\n",
              "      margin-bottom: 4px;\n",
              "    }\n",
              "\n",
              "    [theme=dark] .colab-df-convert {\n",
              "      background-color: #3B4455;\n",
              "      fill: #D2E3FC;\n",
              "    }\n",
              "\n",
              "    [theme=dark] .colab-df-convert:hover {\n",
              "      background-color: #434B5C;\n",
              "      box-shadow: 0px 1px 3px 1px rgba(0, 0, 0, 0.15);\n",
              "      filter: drop-shadow(0px 1px 2px rgba(0, 0, 0, 0.3));\n",
              "      fill: #FFFFFF;\n",
              "    }\n",
              "  </style>\n",
              "\n",
              "    <script>\n",
              "      const buttonEl =\n",
              "        document.querySelector('#df-ca91b8aa-e8b6-448a-bf85-117a21dc383c button.colab-df-convert');\n",
              "      buttonEl.style.display =\n",
              "        google.colab.kernel.accessAllowed ? 'block' : 'none';\n",
              "\n",
              "      async function convertToInteractive(key) {\n",
              "        const element = document.querySelector('#df-ca91b8aa-e8b6-448a-bf85-117a21dc383c');\n",
              "        const dataTable =\n",
              "          await google.colab.kernel.invokeFunction('convertToInteractive',\n",
              "                                                    [key], {});\n",
              "        if (!dataTable) return;\n",
              "\n",
              "        const docLinkHtml = 'Like what you see? Visit the ' +\n",
              "          '<a target=\"_blank\" href=https://colab.research.google.com/notebooks/data_table.ipynb>data table notebook</a>'\n",
              "          + ' to learn more about interactive tables.';\n",
              "        element.innerHTML = '';\n",
              "        dataTable['output_type'] = 'display_data';\n",
              "        await google.colab.output.renderOutput(dataTable, element);\n",
              "        const docLink = document.createElement('div');\n",
              "        docLink.innerHTML = docLinkHtml;\n",
              "        element.appendChild(docLink);\n",
              "      }\n",
              "    </script>\n",
              "  </div>\n",
              "\n",
              "\n",
              "<div id=\"df-8864abfa-6bd6-4fda-90c5-b1b3b277af7e\">\n",
              "  <button class=\"colab-df-quickchart\" onclick=\"quickchart('df-8864abfa-6bd6-4fda-90c5-b1b3b277af7e')\"\n",
              "            title=\"Suggest charts\"\n",
              "            style=\"display:none;\">\n",
              "\n",
              "<svg xmlns=\"http://www.w3.org/2000/svg\" height=\"24px\"viewBox=\"0 0 24 24\"\n",
              "     width=\"24px\">\n",
              "    <g>\n",
              "        <path d=\"M19 3H5c-1.1 0-2 .9-2 2v14c0 1.1.9 2 2 2h14c1.1 0 2-.9 2-2V5c0-1.1-.9-2-2-2zM9 17H7v-7h2v7zm4 0h-2V7h2v10zm4 0h-2v-4h2v4z\"/>\n",
              "    </g>\n",
              "</svg>\n",
              "  </button>\n",
              "\n",
              "<style>\n",
              "  .colab-df-quickchart {\n",
              "      --bg-color: #E8F0FE;\n",
              "      --fill-color: #1967D2;\n",
              "      --hover-bg-color: #E2EBFA;\n",
              "      --hover-fill-color: #174EA6;\n",
              "      --disabled-fill-color: #AAA;\n",
              "      --disabled-bg-color: #DDD;\n",
              "  }\n",
              "\n",
              "  [theme=dark] .colab-df-quickchart {\n",
              "      --bg-color: #3B4455;\n",
              "      --fill-color: #D2E3FC;\n",
              "      --hover-bg-color: #434B5C;\n",
              "      --hover-fill-color: #FFFFFF;\n",
              "      --disabled-bg-color: #3B4455;\n",
              "      --disabled-fill-color: #666;\n",
              "  }\n",
              "\n",
              "  .colab-df-quickchart {\n",
              "    background-color: var(--bg-color);\n",
              "    border: none;\n",
              "    border-radius: 50%;\n",
              "    cursor: pointer;\n",
              "    display: none;\n",
              "    fill: var(--fill-color);\n",
              "    height: 32px;\n",
              "    padding: 0;\n",
              "    width: 32px;\n",
              "  }\n",
              "\n",
              "  .colab-df-quickchart:hover {\n",
              "    background-color: var(--hover-bg-color);\n",
              "    box-shadow: 0 1px 2px rgba(60, 64, 67, 0.3), 0 1px 3px 1px rgba(60, 64, 67, 0.15);\n",
              "    fill: var(--button-hover-fill-color);\n",
              "  }\n",
              "\n",
              "  .colab-df-quickchart-complete:disabled,\n",
              "  .colab-df-quickchart-complete:disabled:hover {\n",
              "    background-color: var(--disabled-bg-color);\n",
              "    fill: var(--disabled-fill-color);\n",
              "    box-shadow: none;\n",
              "  }\n",
              "\n",
              "  .colab-df-spinner {\n",
              "    border: 2px solid var(--fill-color);\n",
              "    border-color: transparent;\n",
              "    border-bottom-color: var(--fill-color);\n",
              "    animation:\n",
              "      spin 1s steps(1) infinite;\n",
              "  }\n",
              "\n",
              "  @keyframes spin {\n",
              "    0% {\n",
              "      border-color: transparent;\n",
              "      border-bottom-color: var(--fill-color);\n",
              "      border-left-color: var(--fill-color);\n",
              "    }\n",
              "    20% {\n",
              "      border-color: transparent;\n",
              "      border-left-color: var(--fill-color);\n",
              "      border-top-color: var(--fill-color);\n",
              "    }\n",
              "    30% {\n",
              "      border-color: transparent;\n",
              "      border-left-color: var(--fill-color);\n",
              "      border-top-color: var(--fill-color);\n",
              "      border-right-color: var(--fill-color);\n",
              "    }\n",
              "    40% {\n",
              "      border-color: transparent;\n",
              "      border-right-color: var(--fill-color);\n",
              "      border-top-color: var(--fill-color);\n",
              "    }\n",
              "    60% {\n",
              "      border-color: transparent;\n",
              "      border-right-color: var(--fill-color);\n",
              "    }\n",
              "    80% {\n",
              "      border-color: transparent;\n",
              "      border-right-color: var(--fill-color);\n",
              "      border-bottom-color: var(--fill-color);\n",
              "    }\n",
              "    90% {\n",
              "      border-color: transparent;\n",
              "      border-bottom-color: var(--fill-color);\n",
              "    }\n",
              "  }\n",
              "</style>\n",
              "\n",
              "  <script>\n",
              "    async function quickchart(key) {\n",
              "      const quickchartButtonEl =\n",
              "        document.querySelector('#' + key + ' button');\n",
              "      quickchartButtonEl.disabled = true;  // To prevent multiple clicks.\n",
              "      quickchartButtonEl.classList.add('colab-df-spinner');\n",
              "      try {\n",
              "        const charts = await google.colab.kernel.invokeFunction(\n",
              "            'suggestCharts', [key], {});\n",
              "      } catch (error) {\n",
              "        console.error('Error during call to suggestCharts:', error);\n",
              "      }\n",
              "      quickchartButtonEl.classList.remove('colab-df-spinner');\n",
              "      quickchartButtonEl.classList.add('colab-df-quickchart-complete');\n",
              "    }\n",
              "    (() => {\n",
              "      let quickchartButtonEl =\n",
              "        document.querySelector('#df-8864abfa-6bd6-4fda-90c5-b1b3b277af7e button');\n",
              "      quickchartButtonEl.style.display =\n",
              "        google.colab.kernel.accessAllowed ? 'block' : 'none';\n",
              "    })();\n",
              "  </script>\n",
              "</div>\n",
              "\n",
              "    </div>\n",
              "  </div>\n"
            ],
            "application/vnd.google.colaboratory.intrinsic+json": {
              "type": "dataframe",
              "variable_name": "df",
              "summary": "{\n  \"name\": \"df\",\n  \"rows\": 1164,\n  \"fields\": [\n    {\n      \"column\": \"title\",\n      \"properties\": {\n        \"dtype\": \"string\",\n        \"num_unique_values\": 974,\n        \"samples\": [\n          \"This whole thing STINKS!\",\n          \"With children, keep calm, carry on and get the flu shot\",\n          \"CDC Urges Americans To Just Say No If Friend Offers Them Coronavirus\"\n        ],\n        \"semantic_type\": \"\",\n        \"description\": \"\"\n      }\n    },\n    {\n      \"column\": \"text\",\n      \"properties\": {\n        \"dtype\": \"string\",\n        \"num_unique_values\": 1124,\n        \"samples\": [\n          \"Please consider the risk. We talked to Dr. Samir Sinha. He's the director of Geriatrics for the Sinai Health System and the University Health Network in Toronto. And this is what he says:Until there's a vaccine, the most vulnerable people should continue to stay home if they can. That includes grandparents over 60 like you and people with chronic illnesses.You see, people in those categories are more likely to become severely ill if they contract coronavirus. We don't want that to be you.\\\"I think the pandemic has been really hard for everybody, but social isolation is a particular issue for older adults,\\\" he says. \\\"One of the greatest joys for older people is seeing younger people in their lives and having intergenerational connections.\\\"It's a tricky balance, we know.On one hand, meaningful connections are hugely important -- they can enrich and even prolong your life. But seeing a loved one means you'll interact with people you haven't seen in weeks who've spent their isolation in a different environment than you. You have to decide whether that risk is worth it to you.Let's talk about it.Maybe you think we, your loving family members, have banned you from visiting.\\\"There is this tension between families where older people feel their families are being overprotective of them or infringing on their rights,\\\" Sinha says.It doesn't have to be a stalemate. Let's talk it out.\\\"It should be a shared choice,\\\" Sinha says. \\\"That person hears why their loved one actually wants to protect them, and this prompts a conversation and helps the person understand, 'While I'm worried about you getting Covid-19, I appreciate that you want to protect me from that.'\\\"Discuss why you want to visit and acknowledge the risk involved.Have you been staying home and limiting your exposures?Or have you had to work daily in environments that could expose them to the virus.If it's the second one, it's best to visit virtually.Follow the safest protocol.There's no way to ensure total safety. But there are steps we all can take to keep the risk as low as possible.Read over Sinha's recommendations, which he developed with the American Red Cross Scientific Advisory Council:Be well. Make sure you're not sick when you plan to visit, whether that means a runny nose, fever or stomach ache -- any form of illness. We won't let you visit if any of us are sick, either.Wear masks. Keep it on for the duration of your visit, if you can. If you're asymptomatic, masks help keep you from breathing out the virus. (And you can learn how to make your own.)Wash your hands. As soon as you walk in, wash your hands for 20 seconds with soap and water. As your family, we'll disinfect frequently touched surfaces before you arrive.Greet without touch. Try not to greet us with a kiss or hug, as hard as that may be to resist.Keep your distance. You know the drill: Keep at least six feet of distance. We know, it's weird.Sinha also recommends his older patients re-up their vaccinations, particularly against the flu and pneumonia.If you do come down with coronavirus, there's a higher chance you may also become infected with pneumonia or the flu at the same time. Multiple illnesses will stress out your immune system. Pace yourself when you're visiting. So, it's decided -- you're visiting. Now you may need to pick which family members get first dibs on you.When you visit multiple people, the possibility that you'll be exposed to the virus grows, Dr. William Schaffner told us. He's an infectious disease specialist at the Vanderbilt University School of Medicine.\\\"Start off with a few people, or just one at a time,\\\" Schaffner says. \\\"This is not the time to have a once-in-20-years family reunion.\\\"Here's another consideration that may sway your choice: Children younger than 5 may have trouble adhering to social distancing measures. If they (or you) can't resist bear hugs or slobbery cheek kisses, consider visiting families with older children, Sinha says. Let's meet outside.Schaffner suggests we choose the great outdoors as our reunion venue, like a park or garden where we can stay safely distant from others.Transmission is unlikely outside, as long as we're keeping 6 feet apart, thanks to constant air flow, Schaffner says. But it's best to wear a mask anyway to prevent asymptomatic transmission should we accidentally come close.One last thing: We, your doting relatives, love you dearly. These guidelines aren't ideal, and we've never had to do anything like this before. But if we take these measures now, we'll do our part to stop the spread of coronavirus. And when this pandemic is through, we can bring on the bear hugs again.Oh, and keep washing your hands.\",\n          \"Due to the Corona Virus, the polls will remain closed and the election is cancelled. Trump will remain president for the next 4 years.(Watch how quickly the epidemic is over)\",\n          \"Anyone who comes into close contact with someone who has COVID-19 is at increased risk of becoming infected themselves, and of potentially infecting others. Contact tracing can help prevent further transmission of the virus by quickly identifying and informing people who may be infected and contagious, so they can take steps to not infect others.Contact tracing begins with identifying everyone that a person recently diagnosed with COVID-19 has been in contact with since they became contagious. In the case of COVID-19, a person may be contagious 48 to 72 hours before they started to experience symptoms.The contacts are notified about their exposure. They may be told what symptoms to look out for, advised to isolate themselves for a period of time, and to seek medical attention as needed if they start to experience symptoms.\"\n        ],\n        \"semantic_type\": \"\",\n        \"description\": \"\"\n      }\n    },\n    {\n      \"column\": \"source\",\n      \"properties\": {\n        \"dtype\": \"category\",\n        \"num_unique_values\": 269,\n        \"samples\": [\n          \"www.rt.com\",\n          \"https://thetruthaboutcancer.com/\",\n          \"https://www.gatesnotes.com/Health/Pandemic-Innovation\"\n        ],\n        \"semantic_type\": \"\",\n        \"description\": \"\"\n      }\n    },\n    {\n      \"column\": \"label\",\n      \"properties\": {\n        \"dtype\": \"category\",\n        \"num_unique_values\": 2,\n        \"samples\": [\n          \"TRUE\",\n          \"FAKE\"\n        ],\n        \"semantic_type\": \"\",\n        \"description\": \"\"\n      }\n    },\n    {\n      \"column\": \"title_text\",\n      \"properties\": {\n        \"dtype\": \"string\",\n        \"num_unique_values\": 1129,\n        \"samples\": [\n          \"What is social distancing and why is it important? The COVID-19 virus primarily spreads when one person breathes in droplets that are produced when an infected person coughs or sneezes. In addition, any infected person, with or without symptoms, could spread the virus by touching a surface. The coronavirus could remain on that surface and someone else could touch it and then touch their mouth, nose or eyes. That's why it's so important to try to avoid touching public surfaces or at least try to wipe them with a disinfectant.Social distancing refers to actions taken to stop or slow down the spread of a contagious disease. For an individual, it refers to maintaining enough distance (6 feet or more) between yourself and another person to avoid getting infected or infecting someone else. School closures, directives to work from home, library closings, and cancelling meetings and larger events help enforce social distancing at a community level.Slowing down the rate and number of new coronavirus infections is critical to reduce the risk that large numbers of critically ill patients cannot receive life-saving care. Highly realistic projections show that unless we begin extreme social distancing now \\u2014 every day matters \\u2014 our hospitals and other healthcare facilities will not be able to handle the likely influx of patients.\",\n          \"The coronavirus was created in the laboratory and is a biological weapon CORANAVIRUS: Amazing that it goes on TV ... Here is the confirmation that we were waiting for ... BIOLOGICAL WEAPON \"\n        ],\n        \"semantic_type\": \"\",\n        \"description\": \"\"\n      }\n    }\n  ]\n}"
            }
          },
          "metadata": {},
          "execution_count": 7
        }
      ]
    },
    {
      "cell_type": "code",
      "source": [
        "df['title_text'][3]"
      ],
      "metadata": {
        "colab": {
          "base_uri": "https://localhost:8080/",
          "height": 35
        },
        "id": "Z_2wSesBBixH",
        "outputId": "c963b527-a2fc-4c3e-81bb-df290e50ecfa"
      },
      "execution_count": 11,
      "outputs": [
        {
          "output_type": "execute_result",
          "data": {
            "text/plain": [
              "'missing The Corona virus is a man made virus created in a Wuhan laboratory. Ask @BillGates who financed it.'"
            ],
            "application/vnd.google.colaboratory.intrinsic+json": {
              "type": "string"
            }
          },
          "metadata": {},
          "execution_count": 11
        }
      ]
    },
    {
      "cell_type": "code",
      "source": [
        "def preprocessor(text):\n",
        "\n",
        "  text = re.sub('<[^>]*>', '', text)\n",
        "\n",
        "  text = re.sub(r'[^\\w\\s]','', text)\n",
        "\n",
        "  text = re.sub(r'[\\n]', '', text)\n",
        "\n",
        "  text = text.lower()\n",
        "\n",
        "  return text\n",
        "\n",
        "\n",
        "\n",
        "df['title_text'] = df['title_text'].apply(preprocessor)\n",
        "\n",
        "df['title_text'][3]"
      ],
      "metadata": {
        "colab": {
          "base_uri": "https://localhost:8080/",
          "height": 35
        },
        "id": "9UCrKGO4B0X2",
        "outputId": "ff6e1e0b-c0a9-4b12-f45a-da051651be09"
      },
      "execution_count": 13,
      "outputs": [
        {
          "output_type": "execute_result",
          "data": {
            "text/plain": [
              "'missing the corona virus is a man made virus created in a wuhan laboratory ask billgates who financed it'"
            ],
            "application/vnd.google.colaboratory.intrinsic+json": {
              "type": "string"
            }
          },
          "metadata": {},
          "execution_count": 13
        }
      ]
    },
    {
      "cell_type": "code",
      "source": [
        "porter = PorterStemmer()\n",
        "\n",
        "def tokenizer_porter(text):\n",
        "\n",
        "    return [porter.stem(word) for word in text.split()]"
      ],
      "metadata": {
        "id": "pFwszPwkCMN7"
      },
      "execution_count": 14,
      "outputs": []
    },
    {
      "cell_type": "code",
      "source": [
        "tfidf = TfidfVectorizer(strip_accents=None,\n",
        "\n",
        "                        lowercase=False,\n",
        "\n",
        "                        preprocessor=None,\n",
        "\n",
        "                        tokenizer=tokenizer_porter,\n",
        "\n",
        "                        use_idf=True,\n",
        "\n",
        "                        norm='l2',\n",
        "\n",
        "                        smooth_idf=True)\n",
        "\n",
        "X = tfidf.fit_transform(df['title_text'])\n",
        "\n",
        "y = df.label.values"
      ],
      "metadata": {
        "id": "OPjuMZX4DrCP"
      },
      "execution_count": 15,
      "outputs": []
    },
    {
      "cell_type": "code",
      "source": [
        "X.shape"
      ],
      "metadata": {
        "colab": {
          "base_uri": "https://localhost:8080/"
        },
        "id": "JUsLwSPwEQbo",
        "outputId": "0796636b-4458-4701-da3b-d44aee2b0261"
      },
      "execution_count": 16,
      "outputs": [
        {
          "output_type": "execute_result",
          "data": {
            "text/plain": [
              "(1164, 27020)"
            ]
          },
          "metadata": {},
          "execution_count": 16
        }
      ]
    },
    {
      "cell_type": "code",
      "source": [
        "X_train, X_test, y_train, y_test = train_test_split(X, y, random_state=0, \\\n",
        "\n",
        "                                                    test_size=0.3, shuffle=False)"
      ],
      "metadata": {
        "id": "iVn1suLVFJvP"
      },
      "execution_count": 17,
      "outputs": []
    },
    {
      "cell_type": "code",
      "source": [
        "clf = LogisticRegressionCV(cv=5, scoring='accuracy', random_state=0, n_jobs=-1, \\\n",
        "\n",
        "                           verbose=0, max_iter=300)\n",
        "\n",
        "clf.fit(X_train, y_train)\n",
        "\n",
        "\n",
        "\n",
        "fake_news_model = open('fake_news_model.sav', 'wb')\n",
        "\n",
        "pickle.dump(clf, fake_news_model)\n",
        "\n",
        "fake_news_model.close()"
      ],
      "metadata": {
        "id": "mP_S7F6fF11r"
      },
      "execution_count": 18,
      "outputs": []
    },
    {
      "cell_type": "code",
      "source": [
        "filename = 'fake_news_model.sav'\n",
        "\n",
        "saved_clf = pickle.load(open(filename, 'rb'))\n",
        "\n",
        "\n",
        "\n",
        "saved_clf.score(X_test, y_test)"
      ],
      "metadata": {
        "colab": {
          "base_uri": "https://localhost:8080/"
        },
        "id": "YrYeTWQEGYr5",
        "outputId": "51f4fe6c-7f85-4136-cbc4-57a6d813bc1c"
      },
      "execution_count": 19,
      "outputs": [
        {
          "output_type": "execute_result",
          "data": {
            "text/plain": [
              "0.9314285714285714"
            ]
          },
          "metadata": {},
          "execution_count": 19
        }
      ]
    },
    {
      "cell_type": "code",
      "source": [
        "from sklearn.metrics import classification_report, accuracy_score\n",
        "\n",
        "y_pred = clf.predict(X_test)\n",
        "\n",
        "print(\"---Test Set Results---\")\n",
        "\n",
        "print(classification_report(y_test, y_pred))"
      ],
      "metadata": {
        "colab": {
          "base_uri": "https://localhost:8080/"
        },
        "id": "-WhjHvKbIF5m",
        "outputId": "14df2e20-fc0c-4034-c24d-b54bce19efd1"
      },
      "execution_count": 20,
      "outputs": [
        {
          "output_type": "stream",
          "name": "stdout",
          "text": [
            "---Test Set Results---\n",
            "              precision    recall  f1-score   support\n",
            "\n",
            "        FAKE       0.92      0.89      0.91       132\n",
            "        TRUE       0.94      0.95      0.95       218\n",
            "\n",
            "    accuracy                           0.93       350\n",
            "   macro avg       0.93      0.92      0.93       350\n",
            "weighted avg       0.93      0.93      0.93       350\n",
            "\n"
          ]
        }
      ]
    },
    {
      "cell_type": "code",
      "source": [
        "test = \"Corona virus before it reaches the lungs\"\n",
        "\n",
        "inp = [test]\n",
        "\n",
        "vect = tfidf.transform(inp)\n",
        "\n",
        "prediction = clf.predict(vect)\n",
        "\n",
        "print(prediction)"
      ],
      "metadata": {
        "colab": {
          "base_uri": "https://localhost:8080/"
        },
        "id": "WCxg-e3iIJ1f",
        "outputId": "1213ca4f-7916-4a1c-94b4-25e0a489fd8e"
      },
      "execution_count": 21,
      "outputs": [
        {
          "output_type": "stream",
          "name": "stdout",
          "text": [
            "['FAKE']\n"
          ]
        }
      ]
    },
    {
      "cell_type": "code",
      "source": [],
      "metadata": {
        "id": "MdjSdJ5lJuMW"
      },
      "execution_count": null,
      "outputs": []
    }
  ]
}